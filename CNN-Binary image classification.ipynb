{
 "cells": [
  {
   "cell_type": "code",
   "execution_count": 1,
   "id": "d6a83752",
   "metadata": {},
   "outputs": [],
   "source": [
    "## the dataset is taken from kaggle \n",
    "## for the computational purposes the subset of images have been taken \n",
    "## total 4000 images with 2000 for training 1000 for validation and 1000 for testing \n",
    "## of all the train test and validaton the proportion is 1:1 for both dogs and cats"
   ]
  },
  {
   "cell_type": "code",
   "execution_count": 1,
   "id": "9c417134",
   "metadata": {},
   "outputs": [],
   "source": [
    "train_dir=r'C:/Users/ATHCHAND/OneDrive - Capgemini/Documents/azure sentinel_anamoly detection/cats dogs image classification/train'\n",
    "test_dir=r'C:/Users/ATHCHAND/OneDrive - Capgemini/Documents/azure sentinel_anamoly detection/cats dogs image classification/test'\n",
    "validation_dir=r'C:/Users/ATHCHAND/OneDrive - Capgemini/Documents/azure sentinel_anamoly detection/cats dogs image classification/validation'\n"
   ]
  },
  {
   "cell_type": "code",
   "execution_count": 2,
   "id": "5dd5d1c3",
   "metadata": {},
   "outputs": [],
   "source": [
    "import tensorflow as tf \n",
    "from tensorflow import keras "
   ]
  },
  {
   "cell_type": "code",
   "execution_count": 3,
   "id": "b6dc1b37",
   "metadata": {},
   "outputs": [],
   "source": [
    "from tensorflow.keras.preprocessing.image import ImageDataGenerator"
   ]
  },
  {
   "cell_type": "markdown",
   "id": "100431c3",
   "metadata": {},
   "source": [
    "## Data preprocessing "
   ]
  },
  {
   "cell_type": "code",
   "execution_count": 4,
   "id": "d62dab0e",
   "metadata": {},
   "outputs": [],
   "source": [
    "## Step1: for data preprocessing we need to first read the picture files \n",
    "## Step2: Then we convert the JPEG images into RBG images \n",
    "## Step3: We then convert it into appropriate tensors and then into pixels betn 0-1 (by scaling it down with a factor of 255)"
   ]
  },
  {
   "cell_type": "code",
   "execution_count": 7,
   "id": "64a6de35",
   "metadata": {},
   "outputs": [
    {
     "name": "stdout",
     "output_type": "stream",
     "text": [
      "Found 2000 images belonging to 2 classes.\n",
      "Found 1000 images belonging to 2 classes.\n"
     ]
    }
   ],
   "source": [
    "## generating batches of tensor image data \n",
    "\n",
    "train_datagen=ImageDataGenerator(rescale=1./255)\n",
    "test_datagen=ImageDataGenerator(rescale=1./255)\n",
    "\n",
    "train_generator=train_datagen.flow_from_directory(train_dir,target_size=(150,150),batch_size=20,class_mode='binary')  ##use \"class_mode=categorical\" for multiple classes\n",
    "validation_generator=test_datagen.flow_from_directory(validation_dir,target_size=(150,150),batch_size=20,class_mode='binary')"
   ]
  },
  {
   "cell_type": "markdown",
   "id": "ca4315f9",
   "metadata": {},
   "source": [
    "## Creating the model"
   ]
  },
  {
   "cell_type": "code",
   "execution_count": 8,
   "id": "9f960397",
   "metadata": {},
   "outputs": [],
   "source": [
    "model=keras.Sequential()\n",
    "\n",
    "model.add(keras.layers.Conv2D(32,(3,3),activation='relu',input_shape=(150,150,3)))\n",
    "model.add(keras.layers.MaxPool2D((2,2)))\n",
    "\n",
    "model.add(keras.layers.Conv2D(64,(3,3),activation='relu'))\n",
    "model.add(keras.layers.MaxPool2D((2,2)))\n",
    "\n",
    "model.add(keras.layers.Conv2D(128,(3,3),activation='relu'))\n",
    "model.add(keras.layers.MaxPool2D((2,2)))\n",
    "\n",
    "model.add(keras.layers.Conv2D(128,(3,3),activation='relu'))\n",
    "model.add(keras.layers.MaxPool2D((2,2)))\n",
    "\n",
    "model.add(keras.layers.Flatten())\n",
    "\n",
    "model.add(keras.layers.Dense(512,activation='relu'))\n",
    "model.add(keras.layers.Dense(1,activation='sigmoid'))\n",
    "\n",
    "## this should be a general practice that the image size decreases as we move deep in the NN and \n",
    "## the filter and because of them the feature generated should increase\n",
    "\n"
   ]
  },
  {
   "cell_type": "code",
   "execution_count": 9,
   "id": "c3c5a860",
   "metadata": {},
   "outputs": [
    {
     "name": "stdout",
     "output_type": "stream",
     "text": [
      "Model: \"sequential\"\n",
      "_________________________________________________________________\n",
      "Layer (type)                 Output Shape              Param #   \n",
      "=================================================================\n",
      "conv2d (Conv2D)              (None, 148, 148, 32)      896       \n",
      "_________________________________________________________________\n",
      "max_pooling2d (MaxPooling2D) (None, 74, 74, 32)        0         \n",
      "_________________________________________________________________\n",
      "conv2d_1 (Conv2D)            (None, 72, 72, 64)        18496     \n",
      "_________________________________________________________________\n",
      "max_pooling2d_1 (MaxPooling2 (None, 36, 36, 64)        0         \n",
      "_________________________________________________________________\n",
      "conv2d_2 (Conv2D)            (None, 34, 34, 128)       73856     \n",
      "_________________________________________________________________\n",
      "max_pooling2d_2 (MaxPooling2 (None, 17, 17, 128)       0         \n",
      "_________________________________________________________________\n",
      "conv2d_3 (Conv2D)            (None, 15, 15, 128)       147584    \n",
      "_________________________________________________________________\n",
      "max_pooling2d_3 (MaxPooling2 (None, 7, 7, 128)         0         \n",
      "_________________________________________________________________\n",
      "flatten (Flatten)            (None, 6272)              0         \n",
      "_________________________________________________________________\n",
      "dense (Dense)                (None, 512)               3211776   \n",
      "_________________________________________________________________\n",
      "dense_1 (Dense)              (None, 1)                 513       \n",
      "=================================================================\n",
      "Total params: 3,453,121\n",
      "Trainable params: 3,453,121\n",
      "Non-trainable params: 0\n",
      "_________________________________________________________________\n"
     ]
    }
   ],
   "source": [
    "model.summary()"
   ]
  },
  {
   "cell_type": "markdown",
   "id": "79ef4781",
   "metadata": {},
   "source": [
    "## Compiling the model"
   ]
  },
  {
   "cell_type": "code",
   "execution_count": 10,
   "id": "27c91b08",
   "metadata": {},
   "outputs": [],
   "source": [
    "model.compile(loss='binary_crossentropy',optimizer='adam',metrics=['accuracy'])"
   ]
  },
  {
   "cell_type": "markdown",
   "id": "cca37e6e",
   "metadata": {},
   "source": [
    "## Fitting the model "
   ]
  },
  {
   "cell_type": "code",
   "execution_count": 12,
   "id": "d6cd99ad",
   "metadata": {},
   "outputs": [],
   "source": [
    "## here we simply do not fit the model using '.fit' method but instead we use the \n",
    "## '.fit_generator' as we have used image_generator eg: train_generator & test_generator"
   ]
  },
  {
   "cell_type": "code",
   "execution_count": 13,
   "id": "dc099d77",
   "metadata": {},
   "outputs": [
    {
     "name": "stderr",
     "output_type": "stream",
     "text": [
      "C:\\Users\\ATHCHAND\\Anaconda3\\envs\\tf\\lib\\site-packages\\tensorflow\\python\\keras\\engine\\training.py:1940: UserWarning: `Model.fit_generator` is deprecated and will be removed in a future version. Please use `Model.fit`, which supports generators.\n",
      "  warnings.warn('`Model.fit_generator` is deprecated and '\n"
     ]
    },
    {
     "name": "stdout",
     "output_type": "stream",
     "text": [
      "Epoch 1/20\n",
      "100/100 [==============================] - 26s 255ms/step - loss: 0.6980 - accuracy: 0.5050 - val_loss: 0.6972 - val_accuracy: 0.5000\n",
      "Epoch 2/20\n",
      "100/100 [==============================] - 24s 239ms/step - loss: 0.6857 - accuracy: 0.5320 - val_loss: 0.6498 - val_accuracy: 0.5890\n",
      "Epoch 3/20\n",
      "100/100 [==============================] - 24s 236ms/step - loss: 0.6754 - accuracy: 0.5560 - val_loss: 0.6411 - val_accuracy: 0.6100\n",
      "Epoch 4/20\n",
      "100/100 [==============================] - 24s 237ms/step - loss: 0.6292 - accuracy: 0.6430 - val_loss: 0.6107 - val_accuracy: 0.6630\n",
      "Epoch 5/20\n",
      "100/100 [==============================] - 24s 237ms/step - loss: 0.5915 - accuracy: 0.6780 - val_loss: 0.5981 - val_accuracy: 0.6860\n",
      "Epoch 6/20\n",
      "100/100 [==============================] - 24s 237ms/step - loss: 0.5493 - accuracy: 0.7200 - val_loss: 0.5956 - val_accuracy: 0.6810\n",
      "Epoch 7/20\n",
      "100/100 [==============================] - 24s 240ms/step - loss: 0.5076 - accuracy: 0.7520 - val_loss: 0.6307 - val_accuracy: 0.6500\n",
      "Epoch 8/20\n",
      "100/100 [==============================] - 24s 242ms/step - loss: 0.4519 - accuracy: 0.7850 - val_loss: 0.6286 - val_accuracy: 0.6660\n",
      "Epoch 9/20\n",
      "100/100 [==============================] - 26s 257ms/step - loss: 0.4089 - accuracy: 0.7950 - val_loss: 0.6889 - val_accuracy: 0.6830\n",
      "Epoch 10/20\n",
      "100/100 [==============================] - 25s 254ms/step - loss: 0.3187 - accuracy: 0.8620 - val_loss: 0.7104 - val_accuracy: 0.6820\n",
      "Epoch 11/20\n",
      "100/100 [==============================] - 27s 267ms/step - loss: 0.2420 - accuracy: 0.8975 - val_loss: 0.7501 - val_accuracy: 0.6980\n",
      "Epoch 12/20\n",
      "100/100 [==============================] - 27s 267ms/step - loss: 0.1580 - accuracy: 0.9360 - val_loss: 0.9430 - val_accuracy: 0.6970\n",
      "Epoch 13/20\n",
      "100/100 [==============================] - 27s 269ms/step - loss: 0.1169 - accuracy: 0.9575 - val_loss: 1.1774 - val_accuracy: 0.6650\n",
      "Epoch 14/20\n",
      "100/100 [==============================] - 27s 274ms/step - loss: 0.1198 - accuracy: 0.9570 - val_loss: 1.2430 - val_accuracy: 0.6740\n",
      "Epoch 15/20\n",
      "100/100 [==============================] - 28s 276ms/step - loss: 0.0418 - accuracy: 0.9880 - val_loss: 1.6478 - val_accuracy: 0.6940\n",
      "Epoch 16/20\n",
      "100/100 [==============================] - 27s 269ms/step - loss: 0.0149 - accuracy: 0.9975 - val_loss: 1.7406 - val_accuracy: 0.6990\n",
      "Epoch 17/20\n",
      "100/100 [==============================] - 27s 271ms/step - loss: 0.0023 - accuracy: 1.0000 - val_loss: 1.9689 - val_accuracy: 0.7010\n",
      "Epoch 18/20\n",
      "100/100 [==============================] - 25s 249ms/step - loss: 7.9947e-04 - accuracy: 1.0000 - val_loss: 2.1512 - val_accuracy: 0.7000\n",
      "Epoch 19/20\n",
      "100/100 [==============================] - 26s 258ms/step - loss: 3.8718e-04 - accuracy: 1.0000 - val_loss: 2.3906 - val_accuracy: 0.7120\n",
      "Epoch 20/20\n",
      "100/100 [==============================] - 24s 242ms/step - loss: 2.5909e-04 - accuracy: 1.0000 - val_loss: 2.4677 - val_accuracy: 0.6990\n"
     ]
    }
   ],
   "source": [
    "model_history=model.fit_generator(\n",
    "        train_generator,\n",
    "        steps_per_epoch=100,   ## no. of images(2000)/batch size(20)\n",
    "        epochs=20,\n",
    "        validation_data=validation_generator,\n",
    "        validation_steps=50  ##no. of images in validation set(1000)/batch_size(20)\n",
    ")"
   ]
  },
  {
   "cell_type": "code",
   "execution_count": 18,
   "id": "ca70b28b",
   "metadata": {},
   "outputs": [],
   "source": [
    "import pandas as pd \n",
    "import matplotlib.pyplot as plt\n",
    "%matplotlib inline "
   ]
  },
  {
   "cell_type": "code",
   "execution_count": 15,
   "id": "a5d1ce6d",
   "metadata": {},
   "outputs": [
    {
     "data": {
      "image/png": "[encoded data removed]",
      "text/plain": [
       "<Figure size 576x360 with 1 Axes>"
      ]
     },
     "metadata": {
      "needs_background": "light"
     },
     "output_type": "display_data"
    }
   ],
   "source": [
    "pd.DataFrame(model_history.history).plot(figsize=(8,5))\n",
    "plt.grid(True)\n",
    "plt.gca().set_ylim(0,1)\n",
    "plt.show()"
   ]
  },
  {
   "cell_type": "code",
   "execution_count": 16,
   "id": "cf86a95b",
   "metadata": {},
   "outputs": [],
   "source": [
    "## from the above graph it is evident that the validation loss increased from a certain point but the training loss continues to go down \n",
    "## this represents a clear case of overfitting "
   ]
  },
  {
   "cell_type": "code",
   "execution_count": 17,
   "id": "b323a968",
   "metadata": {},
   "outputs": [],
   "source": [
    "## save the model \n",
    "\n",
    "model.save('Image_classification_CNN.h5')"
   ]
  },
  {
   "cell_type": "markdown",
   "id": "474b4728",
   "metadata": {},
   "source": [
    "## Data augmentation"
   ]
  },
  {
   "cell_type": "code",
   "execution_count": 14,
   "id": "50f48ada",
   "metadata": {},
   "outputs": [
    {
     "name": "stdout",
     "output_type": "stream",
     "text": [
      "Found 2000 images belonging to 2 classes.\n",
      "Found 1000 images belonging to 2 classes.\n"
     ]
    }
   ],
   "source": [
    "train_datagen_1=ImageDataGenerator(\n",
    "    rescale=1./255,\n",
    "    rotation_range=40,\n",
    "    width_shift_range=0.2,\n",
    "    height_shift_range=0.2,\n",
    "    shear_range=0.2,\n",
    "    zoom_range=0.2,\n",
    "    horizontal_flip=True,)\n",
    "\n",
    "test_datagen_1=ImageDataGenerator(rescale=1./255)\n",
    "\n",
    "train_generator_1=train_datagen_1.flow_from_directory(\n",
    "    train_dir,\n",
    "    target_size=(150,150),\n",
    "    batch_size=20,\n",
    "    class_mode='binary')\n",
    "\n",
    "validation_generator_1=test_datagen_1.flow_from_directory(\n",
    "    validation_dir,\n",
    "    target_size=(150,150),\n",
    "    batch_size=20,\n",
    "    class_mode='binary'\n",
    ")\n"
   ]
  },
  {
   "cell_type": "code",
   "execution_count": 15,
   "id": "d36d24c9",
   "metadata": {},
   "outputs": [],
   "source": [
    "model1=keras.Sequential()\n",
    "\n",
    "model1.add(keras.layers.Conv2D(32,(3,3),activation='relu',input_shape=(150,150,3)))\n",
    "model1.add(keras.layers.MaxPool2D((2,2)))\n",
    "\n",
    "model1.add(keras.layers.Conv2D(64,(3,3),activation='relu'))\n",
    "model1.add(keras.layers.MaxPool2D((2,2)))\n",
    "\n",
    "model1.add(keras.layers.Conv2D(128,(3,3),activation='relu'))\n",
    "model1.add(keras.layers.MaxPool2D((2,2)))\n",
    "\n",
    "model1.add(keras.layers.Conv2D(128,(3,3),activation='relu'))\n",
    "model1.add(keras.layers.MaxPool2D((2,2)))\n",
    "\n",
    "model1.add(keras.layers.Flatten())\n",
    "model1.add(keras.layers.Dropout(0.5))\n",
    "model1.add(keras.layers.Dense(512,activation='relu'))\n",
    "model1.add(keras.layers.Dense(1,activation='sigmoid'))\n",
    "\n",
    "\n",
    "\n",
    "model1.compile(loss='binary_crossentropy',optimizer='adam',metrics=['accuracy'])"
   ]
  },
  {
   "cell_type": "code",
   "execution_count": 16,
   "id": "ee321f82",
   "metadata": {
    "scrolled": true
   },
   "outputs": [
    {
     "name": "stdout",
     "output_type": "stream",
     "text": [
      "Epoch 1/100\n",
      "100/100 [==============================] - 32s 302ms/step - loss: 0.7001 - accuracy: 0.5180 - val_loss: 0.6918 - val_accuracy: 0.5010\n",
      "Epoch 2/100\n",
      "100/100 [==============================] - 31s 310ms/step - loss: 0.6931 - accuracy: 0.5065 - val_loss: 0.6927 - val_accuracy: 0.5000\n",
      "Epoch 3/100\n",
      "100/100 [==============================] - 32s 320ms/step - loss: 0.6825 - accuracy: 0.5550 - val_loss: 0.6881 - val_accuracy: 0.5230\n",
      "Epoch 4/100\n",
      "100/100 [==============================] - 30s 297ms/step - loss: 0.6783 - accuracy: 0.5590 - val_loss: 0.6626 - val_accuracy: 0.5720\n",
      "Epoch 5/100\n",
      "100/100 [==============================] - 31s 312ms/step - loss: 0.6571 - accuracy: 0.5890 - val_loss: 0.6610 - val_accuracy: 0.5810\n",
      "Epoch 6/100\n",
      "100/100 [==============================] - 31s 311ms/step - loss: 0.6737 - accuracy: 0.5855 - val_loss: 0.6524 - val_accuracy: 0.6050\n",
      "Epoch 7/100\n",
      "100/100 [==============================] - 31s 310ms/step - loss: 0.6556 - accuracy: 0.5885 - val_loss: 0.6792 - val_accuracy: 0.5830\n",
      "Epoch 8/100\n",
      "100/100 [==============================] - 29s 291ms/step - loss: 0.6508 - accuracy: 0.6230 - val_loss: 0.6361 - val_accuracy: 0.6210\n",
      "Epoch 9/100\n",
      "100/100 [==============================] - 30s 294ms/step - loss: 0.6444 - accuracy: 0.6185 - val_loss: 0.7110 - val_accuracy: 0.6080\n",
      "Epoch 10/100\n",
      "100/100 [==============================] - 29s 285ms/step - loss: 0.6249 - accuracy: 0.6450 - val_loss: 0.6289 - val_accuracy: 0.6260\n",
      "Epoch 11/100\n",
      "100/100 [==============================] - 28s 283ms/step - loss: 0.6099 - accuracy: 0.6680 - val_loss: 0.6217 - val_accuracy: 0.6710\n",
      "Epoch 12/100\n",
      "100/100 [==============================] - 29s 286ms/step - loss: 0.6201 - accuracy: 0.6660 - val_loss: 0.5961 - val_accuracy: 0.6610\n",
      "Epoch 13/100\n",
      "100/100 [==============================] - 29s 285ms/step - loss: 0.5967 - accuracy: 0.6810 - val_loss: 0.5788 - val_accuracy: 0.6960\n",
      "Epoch 14/100\n",
      "100/100 [==============================] - 29s 287ms/step - loss: 0.6059 - accuracy: 0.6650 - val_loss: 0.5772 - val_accuracy: 0.6980\n",
      "Epoch 15/100\n",
      "100/100 [==============================] - 29s 286ms/step - loss: 0.5931 - accuracy: 0.6910 - val_loss: 0.5486 - val_accuracy: 0.7090\n",
      "Epoch 16/100\n",
      "100/100 [==============================] - 29s 286ms/step - loss: 0.6027 - accuracy: 0.6690 - val_loss: 0.5763 - val_accuracy: 0.7020\n",
      "Epoch 17/100\n",
      "100/100 [==============================] - 28s 284ms/step - loss: 0.5908 - accuracy: 0.6990 - val_loss: 0.6202 - val_accuracy: 0.6520\n",
      "Epoch 18/100\n",
      "100/100 [==============================] - 29s 285ms/step - loss: 0.5842 - accuracy: 0.6910 - val_loss: 0.5541 - val_accuracy: 0.7100\n",
      "Epoch 19/100\n",
      "100/100 [==============================] - 29s 287ms/step - loss: 0.5766 - accuracy: 0.7065 - val_loss: 0.5727 - val_accuracy: 0.7000\n",
      "Epoch 20/100\n",
      "100/100 [==============================] - 29s 286ms/step - loss: 0.5647 - accuracy: 0.6965 - val_loss: 0.5676 - val_accuracy: 0.7210\n",
      "Epoch 21/100\n",
      "100/100 [==============================] - 29s 286ms/step - loss: 0.5594 - accuracy: 0.7145 - val_loss: 0.5279 - val_accuracy: 0.7310\n",
      "Epoch 22/100\n",
      "100/100 [==============================] - 29s 286ms/step - loss: 0.5555 - accuracy: 0.7220 - val_loss: 0.5413 - val_accuracy: 0.7320\n",
      "Epoch 23/100\n",
      "100/100 [==============================] - 29s 289ms/step - loss: 0.5620 - accuracy: 0.7030 - val_loss: 0.5485 - val_accuracy: 0.7210\n",
      "Epoch 24/100\n",
      "100/100 [==============================] - 29s 290ms/step - loss: 0.5551 - accuracy: 0.7120 - val_loss: 0.5185 - val_accuracy: 0.7470\n",
      "Epoch 25/100\n",
      "100/100 [==============================] - 29s 287ms/step - loss: 0.5513 - accuracy: 0.7120 - val_loss: 0.5149 - val_accuracy: 0.7530\n",
      "Epoch 26/100\n",
      "100/100 [==============================] - 29s 291ms/step - loss: 0.5282 - accuracy: 0.7370 - val_loss: 0.5370 - val_accuracy: 0.7230\n",
      "Epoch 27/100\n",
      "100/100 [==============================] - 29s 287ms/step - loss: 0.5361 - accuracy: 0.7495 - val_loss: 0.5219 - val_accuracy: 0.7510\n",
      "Epoch 28/100\n",
      "100/100 [==============================] - 29s 288ms/step - loss: 0.5289 - accuracy: 0.7440 - val_loss: 0.5281 - val_accuracy: 0.7370\n",
      "Epoch 29/100\n",
      "100/100 [==============================] - 29s 289ms/step - loss: 0.5399 - accuracy: 0.7270 - val_loss: 0.5030 - val_accuracy: 0.7570\n",
      "Epoch 30/100\n",
      "100/100 [==============================] - 29s 287ms/step - loss: 0.5402 - accuracy: 0.7395 - val_loss: 0.5166 - val_accuracy: 0.7500\n",
      "Epoch 31/100\n",
      "100/100 [==============================] - 29s 289ms/step - loss: 0.5167 - accuracy: 0.7550 - val_loss: 0.5117 - val_accuracy: 0.7490\n",
      "Epoch 32/100\n",
      "100/100 [==============================] - 29s 287ms/step - loss: 0.5170 - accuracy: 0.7505 - val_loss: 0.4983 - val_accuracy: 0.7490\n",
      "Epoch 33/100\n",
      "100/100 [==============================] - 29s 289ms/step - loss: 0.5099 - accuracy: 0.7570 - val_loss: 0.5117 - val_accuracy: 0.7540\n",
      "Epoch 34/100\n",
      "100/100 [==============================] - 29s 288ms/step - loss: 0.5193 - accuracy: 0.7490 - val_loss: 0.5119 - val_accuracy: 0.7500\n",
      "Epoch 35/100\n",
      "100/100 [==============================] - 29s 291ms/step - loss: 0.5196 - accuracy: 0.7500 - val_loss: 0.5057 - val_accuracy: 0.7470\n",
      "Epoch 36/100\n",
      "100/100 [==============================] - 29s 288ms/step - loss: 0.5047 - accuracy: 0.7485 - val_loss: 0.5160 - val_accuracy: 0.7460\n",
      "Epoch 37/100\n",
      "100/100 [==============================] - 29s 288ms/step - loss: 0.4850 - accuracy: 0.7670 - val_loss: 0.4784 - val_accuracy: 0.7860\n",
      "Epoch 38/100\n",
      "100/100 [==============================] - 29s 287ms/step - loss: 0.4793 - accuracy: 0.7620 - val_loss: 0.5337 - val_accuracy: 0.7440\n",
      "Epoch 39/100\n",
      "100/100 [==============================] - 29s 289ms/step - loss: 0.5000 - accuracy: 0.7545 - val_loss: 0.4673 - val_accuracy: 0.7640\n",
      "Epoch 40/100\n",
      "100/100 [==============================] - 29s 289ms/step - loss: 0.4861 - accuracy: 0.7720 - val_loss: 0.4892 - val_accuracy: 0.7740\n",
      "Epoch 41/100\n",
      "100/100 [==============================] - 30s 299ms/step - loss: 0.4799 - accuracy: 0.7755 - val_loss: 0.4816 - val_accuracy: 0.7680\n",
      "Epoch 42/100\n",
      "100/100 [==============================] - 30s 299ms/step - loss: 0.4750 - accuracy: 0.7705 - val_loss: 0.4745 - val_accuracy: 0.7720\n",
      "Epoch 43/100\n",
      "100/100 [==============================] - 29s 293ms/step - loss: 0.4732 - accuracy: 0.7800 - val_loss: 0.5200 - val_accuracy: 0.7480\n",
      "Epoch 44/100\n",
      "100/100 [==============================] - 29s 285ms/step - loss: 0.4657 - accuracy: 0.7675 - val_loss: 0.4633 - val_accuracy: 0.7890\n",
      "Epoch 45/100\n",
      "100/100 [==============================] - 29s 288ms/step - loss: 0.4644 - accuracy: 0.7730 - val_loss: 0.4528 - val_accuracy: 0.7880\n",
      "Epoch 46/100\n",
      "100/100 [==============================] - 29s 289ms/step - loss: 0.4427 - accuracy: 0.7940 - val_loss: 0.4621 - val_accuracy: 0.7880\n",
      "Epoch 47/100\n",
      "100/100 [==============================] - 29s 286ms/step - loss: 0.4740 - accuracy: 0.7785 - val_loss: 0.4645 - val_accuracy: 0.7860\n",
      "Epoch 48/100\n",
      "100/100 [==============================] - 29s 287ms/step - loss: 0.4500 - accuracy: 0.7970 - val_loss: 0.4704 - val_accuracy: 0.7680\n",
      "Epoch 49/100\n",
      "100/100 [==============================] - 29s 284ms/step - loss: 0.4351 - accuracy: 0.7885 - val_loss: 0.4464 - val_accuracy: 0.7930\n",
      "Epoch 50/100\n",
      "100/100 [==============================] - 29s 290ms/step - loss: 0.4488 - accuracy: 0.7800 - val_loss: 0.5080 - val_accuracy: 0.7760\n",
      "Epoch 51/100\n",
      "100/100 [==============================] - 29s 287ms/step - loss: 0.4396 - accuracy: 0.7995 - val_loss: 0.4411 - val_accuracy: 0.7970\n",
      "Epoch 52/100\n",
      "100/100 [==============================] - 29s 286ms/step - loss: 0.4212 - accuracy: 0.8030 - val_loss: 0.4528 - val_accuracy: 0.7980\n",
      "Epoch 53/100\n",
      "100/100 [==============================] - 29s 286ms/step - loss: 0.4505 - accuracy: 0.7895 - val_loss: 0.4482 - val_accuracy: 0.7860\n",
      "Epoch 54/100\n",
      "100/100 [==============================] - 29s 287ms/step - loss: 0.4170 - accuracy: 0.8175 - val_loss: 0.4563 - val_accuracy: 0.7840\n",
      "Epoch 55/100\n",
      "100/100 [==============================] - 29s 285ms/step - loss: 0.4063 - accuracy: 0.8190 - val_loss: 0.4812 - val_accuracy: 0.7580\n",
      "Epoch 56/100\n",
      "100/100 [==============================] - 29s 290ms/step - loss: 0.4060 - accuracy: 0.8100 - val_loss: 0.4198 - val_accuracy: 0.8090\n"
     ]
    },
    {
     "name": "stdout",
     "output_type": "stream",
     "text": [
      "Epoch 57/100\n",
      "100/100 [==============================] - 29s 286ms/step - loss: 0.4045 - accuracy: 0.8220 - val_loss: 0.4194 - val_accuracy: 0.8110\n",
      "Epoch 58/100\n",
      "100/100 [==============================] - 29s 286ms/step - loss: 0.4174 - accuracy: 0.8170 - val_loss: 0.4154 - val_accuracy: 0.8190\n",
      "Epoch 59/100\n",
      "100/100 [==============================] - 29s 285ms/step - loss: 0.4060 - accuracy: 0.8220 - val_loss: 0.4288 - val_accuracy: 0.8070\n",
      "Epoch 60/100\n",
      "100/100 [==============================] - 29s 286ms/step - loss: 0.4023 - accuracy: 0.8205 - val_loss: 0.4206 - val_accuracy: 0.8240\n",
      "Epoch 61/100\n",
      "100/100 [==============================] - 29s 288ms/step - loss: 0.4266 - accuracy: 0.8060 - val_loss: 0.4052 - val_accuracy: 0.8100\n",
      "Epoch 62/100\n",
      "100/100 [==============================] - 29s 288ms/step - loss: 0.4082 - accuracy: 0.8115 - val_loss: 0.4729 - val_accuracy: 0.7610\n",
      "Epoch 63/100\n",
      "100/100 [==============================] - 29s 289ms/step - loss: 0.4288 - accuracy: 0.8090 - val_loss: 0.3958 - val_accuracy: 0.8240\n",
      "Epoch 64/100\n",
      "100/100 [==============================] - 29s 286ms/step - loss: 0.3889 - accuracy: 0.8265 - val_loss: 0.4389 - val_accuracy: 0.8230\n",
      "Epoch 65/100\n",
      "100/100 [==============================] - 29s 287ms/step - loss: 0.3971 - accuracy: 0.8215 - val_loss: 0.4781 - val_accuracy: 0.7900\n",
      "Epoch 66/100\n",
      "100/100 [==============================] - 29s 286ms/step - loss: 0.3944 - accuracy: 0.8255 - val_loss: 0.4651 - val_accuracy: 0.8040\n",
      "Epoch 67/100\n",
      "100/100 [==============================] - 29s 289ms/step - loss: 0.3804 - accuracy: 0.8325 - val_loss: 0.4606 - val_accuracy: 0.8150\n",
      "Epoch 68/100\n",
      "100/100 [==============================] - 29s 286ms/step - loss: 0.3700 - accuracy: 0.8405 - val_loss: 0.4044 - val_accuracy: 0.8330\n",
      "Epoch 69/100\n",
      "100/100 [==============================] - 29s 287ms/step - loss: 0.3717 - accuracy: 0.8355 - val_loss: 0.4305 - val_accuracy: 0.8260\n",
      "Epoch 70/100\n",
      "100/100 [==============================] - 29s 287ms/step - loss: 0.3699 - accuracy: 0.8375 - val_loss: 0.4302 - val_accuracy: 0.8250\n",
      "Epoch 71/100\n",
      "100/100 [==============================] - 29s 287ms/step - loss: 0.3854 - accuracy: 0.8165 - val_loss: 0.3988 - val_accuracy: 0.8350\n",
      "Epoch 72/100\n",
      "100/100 [==============================] - 29s 286ms/step - loss: 0.3464 - accuracy: 0.8370 - val_loss: 0.6440 - val_accuracy: 0.7670\n",
      "Epoch 73/100\n",
      "100/100 [==============================] - 29s 287ms/step - loss: 0.3836 - accuracy: 0.8245 - val_loss: 0.4003 - val_accuracy: 0.8230\n",
      "Epoch 74/100\n",
      "100/100 [==============================] - 29s 287ms/step - loss: 0.3556 - accuracy: 0.8410 - val_loss: 0.4252 - val_accuracy: 0.8020\n",
      "Epoch 75/100\n",
      "100/100 [==============================] - 29s 286ms/step - loss: 0.3589 - accuracy: 0.8460 - val_loss: 0.4580 - val_accuracy: 0.7960\n",
      "Epoch 76/100\n",
      "100/100 [==============================] - 29s 287ms/step - loss: 0.3463 - accuracy: 0.8485 - val_loss: 0.4078 - val_accuracy: 0.8390\n",
      "Epoch 77/100\n",
      "100/100 [==============================] - 29s 285ms/step - loss: 0.3615 - accuracy: 0.8365 - val_loss: 0.3909 - val_accuracy: 0.8370\n",
      "Epoch 78/100\n",
      "100/100 [==============================] - 29s 290ms/step - loss: 0.3355 - accuracy: 0.8600 - val_loss: 0.4050 - val_accuracy: 0.8380\n",
      "Epoch 79/100\n",
      "100/100 [==============================] - 29s 286ms/step - loss: 0.3499 - accuracy: 0.8525 - val_loss: 0.3792 - val_accuracy: 0.8400\n",
      "Epoch 80/100\n",
      "100/100 [==============================] - 29s 286ms/step - loss: 0.3340 - accuracy: 0.8575 - val_loss: 0.4072 - val_accuracy: 0.8210\n",
      "Epoch 81/100\n",
      "100/100 [==============================] - 29s 286ms/step - loss: 0.3311 - accuracy: 0.8595 - val_loss: 0.3954 - val_accuracy: 0.8310\n",
      "Epoch 82/100\n",
      "100/100 [==============================] - 29s 290ms/step - loss: 0.3335 - accuracy: 0.8515 - val_loss: 0.3921 - val_accuracy: 0.8410\n",
      "Epoch 83/100\n",
      "100/100 [==============================] - 29s 289ms/step - loss: 0.3684 - accuracy: 0.8385 - val_loss: 0.4932 - val_accuracy: 0.7960\n",
      "Epoch 84/100\n",
      "100/100 [==============================] - 29s 288ms/step - loss: 0.3381 - accuracy: 0.8555 - val_loss: 0.4030 - val_accuracy: 0.8210\n",
      "Epoch 85/100\n",
      "100/100 [==============================] - 29s 286ms/step - loss: 0.3352 - accuracy: 0.8460 - val_loss: 0.4179 - val_accuracy: 0.8320\n",
      "Epoch 86/100\n",
      "100/100 [==============================] - 29s 288ms/step - loss: 0.3320 - accuracy: 0.8520 - val_loss: 0.4114 - val_accuracy: 0.8340\n",
      "Epoch 87/100\n",
      "100/100 [==============================] - 29s 287ms/step - loss: 0.3380 - accuracy: 0.8545 - val_loss: 0.3919 - val_accuracy: 0.8310\n",
      "Epoch 88/100\n",
      "100/100 [==============================] - 29s 288ms/step - loss: 0.3245 - accuracy: 0.8540 - val_loss: 0.3625 - val_accuracy: 0.8480\n",
      "Epoch 89/100\n",
      "100/100 [==============================] - 29s 287ms/step - loss: 0.3233 - accuracy: 0.8690 - val_loss: 0.3850 - val_accuracy: 0.8230\n",
      "Epoch 90/100\n",
      "100/100 [==============================] - 29s 287ms/step - loss: 0.3147 - accuracy: 0.8640 - val_loss: 0.3837 - val_accuracy: 0.8380\n",
      "Epoch 91/100\n",
      "100/100 [==============================] - 29s 286ms/step - loss: 0.3460 - accuracy: 0.8455 - val_loss: 0.3943 - val_accuracy: 0.8380\n",
      "Epoch 92/100\n",
      "100/100 [==============================] - 29s 288ms/step - loss: 0.3022 - accuracy: 0.8745 - val_loss: 0.4504 - val_accuracy: 0.8180\n",
      "Epoch 93/100\n",
      "100/100 [==============================] - 29s 288ms/step - loss: 0.3185 - accuracy: 0.8600 - val_loss: 0.4449 - val_accuracy: 0.8080\n",
      "Epoch 94/100\n",
      "100/100 [==============================] - 29s 286ms/step - loss: 0.3287 - accuracy: 0.8555 - val_loss: 0.4764 - val_accuracy: 0.7970\n",
      "Epoch 95/100\n",
      "100/100 [==============================] - 29s 287ms/step - loss: 0.3127 - accuracy: 0.8575 - val_loss: 0.3887 - val_accuracy: 0.8270\n",
      "Epoch 96/100\n",
      "100/100 [==============================] - 29s 288ms/step - loss: 0.3232 - accuracy: 0.8620 - val_loss: 0.4228 - val_accuracy: 0.8230\n",
      "Epoch 97/100\n",
      "100/100 [==============================] - 29s 288ms/step - loss: 0.2986 - accuracy: 0.8720 - val_loss: 0.4100 - val_accuracy: 0.8250\n",
      "Epoch 98/100\n",
      "100/100 [==============================] - 29s 287ms/step - loss: 0.3031 - accuracy: 0.8655 - val_loss: 0.3941 - val_accuracy: 0.8560\n",
      "Epoch 99/100\n",
      "100/100 [==============================] - 29s 290ms/step - loss: 0.3178 - accuracy: 0.8545 - val_loss: 0.4185 - val_accuracy: 0.8270\n",
      "Epoch 100/100\n",
      "100/100 [==============================] - 29s 286ms/step - loss: 0.2884 - accuracy: 0.8740 - val_loss: 0.4373 - val_accuracy: 0.8190\n"
     ]
    }
   ],
   "source": [
    "history=model1.fit(\n",
    "    train_generator_1,\n",
    "    steps_per_epoch = 100,\n",
    "    epochs=100,\n",
    "    validation_data=validation_generator_1,\n",
    "    validation_steps=50\n",
    ")"
   ]
  },
  {
   "cell_type": "code",
   "execution_count": 20,
   "id": "2ec21cc8",
   "metadata": {},
   "outputs": [
    {
     "data": {
      "image/png": "[encoded data removed]",
      "text/plain": [
       "<Figure size 576x360 with 1 Axes>"
      ]
     },
     "metadata": {
      "needs_background": "light"
     },
     "output_type": "display_data"
    }
   ],
   "source": [
    "pd.DataFrame(history.history).plot(figsize=(8,5))\n",
    "plt.grid(True)\n",
    "plt.gca().set_ylim(0,1)\n",
    "plt.show()"
   ]
  },
  {
   "cell_type": "code",
   "execution_count": 21,
   "id": "b517f4b5",
   "metadata": {},
   "outputs": [],
   "source": [
    "## conclusion: we can say that by performing the \"data augmentation\" we see that the validation loss decreases considerably "
   ]
  },
  {
   "cell_type": "code",
   "execution_count": 22,
   "id": "151b15e7",
   "metadata": {},
   "outputs": [],
   "source": [
    "model1.save('data_augmented_model.h5')"
   ]
  },
  {
   "cell_type": "code",
   "execution_count": 23,
   "id": "260b0c37",
   "metadata": {},
   "outputs": [
    {
     "data": {
      "text/plain": [
       "'C:\\\\Users\\\\ATHCHAND\\\\Tensorflow pracs'"
      ]
     },
     "execution_count": 23,
     "metadata": {},
     "output_type": "execute_result"
    }
   ],
   "source": [
    "%pwd"
   ]
  },
  {
   "cell_type": "markdown",
   "id": "87a47b41",
   "metadata": {},
   "source": [
    "## Transfer learning using VGG16"
   ]
  },
  {
   "cell_type": "code",
   "execution_count": 24,
   "id": "a540faef",
   "metadata": {},
   "outputs": [
    {
     "name": "stdout",
     "output_type": "stream",
     "text": [
      "Downloading data from https://storage.googleapis.com/tensorflow/keras-applications/vgg16/vgg16_weights_tf_dim_ordering_tf_kernels_notop.h5\n",
      "58892288/58889256 [==============================] - 14s 0us/step\n"
     ]
    }
   ],
   "source": [
    "from tensorflow.keras.applications import VGG16\n",
    "\n",
    "conv_base=VGG16(weights='imagenet',\n",
    "                include_top=False,##we only want to use \"conv\" base\n",
    "                input_shape=(150,150,3))"
   ]
  },
  {
   "cell_type": "code",
   "execution_count": 25,
   "id": "38e48ceb",
   "metadata": {},
   "outputs": [
    {
     "name": "stdout",
     "output_type": "stream",
     "text": [
      "Model: \"vgg16\"\n",
      "_________________________________________________________________\n",
      "Layer (type)                 Output Shape              Param #   \n",
      "=================================================================\n",
      "input_1 (InputLayer)         [(None, 150, 150, 3)]     0         \n",
      "_________________________________________________________________\n",
      "block1_conv1 (Conv2D)        (None, 150, 150, 64)      1792      \n",
      "_________________________________________________________________\n",
      "block1_conv2 (Conv2D)        (None, 150, 150, 64)      36928     \n",
      "_________________________________________________________________\n",
      "block1_pool (MaxPooling2D)   (None, 75, 75, 64)        0         \n",
      "_________________________________________________________________\n",
      "block2_conv1 (Conv2D)        (None, 75, 75, 128)       73856     \n",
      "_________________________________________________________________\n",
      "block2_conv2 (Conv2D)        (None, 75, 75, 128)       147584    \n",
      "_________________________________________________________________\n",
      "block2_pool (MaxPooling2D)   (None, 37, 37, 128)       0         \n",
      "_________________________________________________________________\n",
      "block3_conv1 (Conv2D)        (None, 37, 37, 256)       295168    \n",
      "_________________________________________________________________\n",
      "block3_conv2 (Conv2D)        (None, 37, 37, 256)       590080    \n",
      "_________________________________________________________________\n",
      "block3_conv3 (Conv2D)        (None, 37, 37, 256)       590080    \n",
      "_________________________________________________________________\n",
      "block3_pool (MaxPooling2D)   (None, 18, 18, 256)       0         \n",
      "_________________________________________________________________\n",
      "block4_conv1 (Conv2D)        (None, 18, 18, 512)       1180160   \n",
      "_________________________________________________________________\n",
      "block4_conv2 (Conv2D)        (None, 18, 18, 512)       2359808   \n",
      "_________________________________________________________________\n",
      "block4_conv3 (Conv2D)        (None, 18, 18, 512)       2359808   \n",
      "_________________________________________________________________\n",
      "block4_pool (MaxPooling2D)   (None, 9, 9, 512)         0         \n",
      "_________________________________________________________________\n",
      "block5_conv1 (Conv2D)        (None, 9, 9, 512)         2359808   \n",
      "_________________________________________________________________\n",
      "block5_conv2 (Conv2D)        (None, 9, 9, 512)         2359808   \n",
      "_________________________________________________________________\n",
      "block5_conv3 (Conv2D)        (None, 9, 9, 512)         2359808   \n",
      "_________________________________________________________________\n",
      "block5_pool (MaxPooling2D)   (None, 4, 4, 512)         0         \n",
      "=================================================================\n",
      "Total params: 14,714,688\n",
      "Trainable params: 14,714,688\n",
      "Non-trainable params: 0\n",
      "_________________________________________________________________\n"
     ]
    }
   ],
   "source": [
    "conv_base.summary()"
   ]
  },
  {
   "cell_type": "code",
   "execution_count": 27,
   "id": "e96f97ea",
   "metadata": {},
   "outputs": [],
   "source": [
    "model_3=keras.Sequential()\n",
    "\n",
    "model_3.add(conv_base)\n",
    "model_3.add(keras.layers.Flatten())\n",
    "model_3.add(keras.layers.Dense(256,activation='relu'))\n",
    "model_3.add(keras.layers.Dense(1,activation='sigmoid'))\n",
    "\n"
   ]
  },
  {
   "cell_type": "code",
   "execution_count": 28,
   "id": "ce4b5a2c",
   "metadata": {},
   "outputs": [
    {
     "name": "stdout",
     "output_type": "stream",
     "text": [
      "Model: \"sequential_3\"\n",
      "_________________________________________________________________\n",
      "Layer (type)                 Output Shape              Param #   \n",
      "=================================================================\n",
      "vgg16 (Functional)           (None, 4, 4, 512)         14714688  \n",
      "_________________________________________________________________\n",
      "flatten_2 (Flatten)          (None, 8192)              0         \n",
      "_________________________________________________________________\n",
      "dense_4 (Dense)              (None, 256)               2097408   \n",
      "_________________________________________________________________\n",
      "dense_5 (Dense)              (None, 1)                 257       \n",
      "=================================================================\n",
      "Total params: 16,812,353\n",
      "Trainable params: 16,812,353\n",
      "Non-trainable params: 0\n",
      "_________________________________________________________________\n"
     ]
    }
   ],
   "source": [
    "model_3.summary()"
   ]
  },
  {
   "cell_type": "code",
   "execution_count": 29,
   "id": "888f1527",
   "metadata": {},
   "outputs": [],
   "source": [
    "## we can pause the conv layer by writing\n",
    "## conv_base.trainable=False  to make our weight updations and reduce the no of params and time \n",
    "## but we choose to use the VGG model weights"
   ]
  },
  {
   "cell_type": "code",
   "execution_count": 30,
   "id": "f18a0f88",
   "metadata": {},
   "outputs": [],
   "source": [
    "model_3.compile(loss='binary_crossentropy',optimizer='adam',metrics=['accuracy'])"
   ]
  },
  {
   "cell_type": "code",
   "execution_count": 31,
   "id": "49544f67",
   "metadata": {},
   "outputs": [],
   "source": [
    "checkpoint_cb=keras.callbacks.ModelCheckpoint('CNN_VGG_model-{epoch:02d}.h5') ##save model at each epoch "
   ]
  },
  {
   "cell_type": "code",
   "execution_count": null,
   "id": "2dc4170b",
   "metadata": {},
   "outputs": [],
   "source": [
    "history_VGG=model_3.fit(\n",
    "    train_generator_1,\n",
    "    steps_per_epoch=100,\n",
    "    epochs=30,\n",
    "    validation_data=validation_generator_1,\n",
    "    validation_steps=50,\n",
    "    callbacks=[checkpoint_cb]\n",
    ")"
   ]
  },
  {
   "cell_type": "code",
   "execution_count": null,
   "id": "0ecda9e2",
   "metadata": {},
   "outputs": [],
   "source": [
    "pd.DataFrame(history_VGG.history).plot(figsize=(8,5))\n",
    "plt.grid(True)\n",
    "plt.gca().set_ylim(0,1)\n",
    "plt.show()"
   ]
  },
  {
   "cell_type": "code",
   "execution_count": 32,
   "id": "9782dc3c",
   "metadata": {},
   "outputs": [],
   "source": [
    "## testing the test dataset"
   ]
  },
  {
   "cell_type": "code",
   "execution_count": 33,
   "id": "ce0c8536",
   "metadata": {},
   "outputs": [
    {
     "name": "stdout",
     "output_type": "stream",
     "text": [
      "Found 1000 images belonging to 2 classes.\n"
     ]
    }
   ],
   "source": [
    "test_generator_1=test_datagen_1.flow_from_directory(\n",
    "    test_dir,\n",
    "    target_size=(150,150),\n",
    "    batch_size=20,\n",
    "    class_mode='binary'\n",
    ")"
   ]
  },
  {
   "cell_type": "code",
   "execution_count": null,
   "id": "6f07f829",
   "metadata": {},
   "outputs": [],
   "source": [
    "model_3.evaluate(test_generator_1,steps=50)"
   ]
  }
 ],
 "metadata": {
  "kernelspec": {
   "display_name": "Python 3",
   "language": "python",
   "name": "python3"
  },
  "language_info": {
   "codemirror_mode": {
    "name": "ipython",
    "version": 3
   },
   "file_extension": ".py",
   "mimetype": "text/x-python",
   "name": "python",
   "nbconvert_exporter": "python",
   "pygments_lexer": "ipython3",
   "version": "3.9.6"
  }
 },
 "nbformat": 4,
 "nbformat_minor": 5
}
